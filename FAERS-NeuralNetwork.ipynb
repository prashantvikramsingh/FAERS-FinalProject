{
 "cells": [
  {
   "cell_type": "code",
   "execution_count": null,
   "metadata": {},
   "outputs": [],
   "source": [
    "# Package imports\n",
    "import matplotlib.pyplot as plt\n",
    "import numpy as np\n",
    "import sklearn\n",
    "import sklearn.datasets\n",
    "import sklearn.linear_model\n",
    "import matplotlib\n",
    "import numpy as np\n",
    "import pandas as pd\n",
    "from sklearn import metrics\n",
    "from sklearn.metrics import roc_curve\n",
    "from sklearn import preprocessing\n",
    "from sklearn.linear_model import (LinearRegression, Ridge,Lasso, RandomizedLasso)\n",
    "from sklearn.feature_selection import RFE, f_regression\n",
    "from sklearn.preprocessing import MinMaxScaler\n",
    "from sklearn.ensemble import RandomForestRegressor\n",
    "from sklearn import datasets\n",
    "from pybrain.utilities import percentError\n",
    "from pybrain.tools.shortcuts import buildNetwork\n",
    "from pybrain.supervised.trainers import BackpropTrainer\n",
    "from pybrain.structure.modules import SoftmaxLayer\n",
    "from pybrain.datasets.classification import ClassificationDataSet\n",
    "from pybrain.tools.validation import Validator\n",
    "from sklearn.metrics import confusion_matrix"
   ]
  },
  {
   "cell_type": "code",
   "execution_count": null,
   "metadata": {},
   "outputs": [],
   "source": [
    "def featureSelectionRFE():\n",
    "    from sklearn.feature_selection import RFE\n",
    "    from sklearn.linear_model import LogisticRegression\n",
    "    model = LogisticRegression()\n",
    "    # create the RFE model and select 3 attributes\n",
    "    rfe = RFE(model, 10)\n",
    "    rfe = rfe.fit(train_data[0:,1:], train_data[0:,0])\n",
    "    # summarize the selection of the attributes\n",
    "    print(rfe.support_)\n",
    "    print(rfe.ranking_)\n",
    "    print(rfe.n_features_)\n",
    "    #Check the accuracy of the model\n",
    "    rfe.score(train_data[0:,1:], train_data[0:,0])"
   ]
  },
  {
   "cell_type": "code",
   "execution_count": null,
   "metadata": {},
   "outputs": [],
   "source": [
    "def labelConversion(df):\n",
    "# Discreet value integer encoder\n",
    "    label_encoder = preprocessing.LabelEncoder()\n",
    "    df['drugname'] = label_encoder.fit_transform(df['drugname'])\n",
    "    df['route'] = label_encoder.fit_transform(df['route'])\n",
    "    df['dose_unit'] = label_encoder.fit_transform(df['dose_unit'])\n",
    "    df['dose_form'] = label_encoder.fit_transform(df['dose_form'])\n",
    "    df['dose_freq'] = label_encoder.fit_transform(df['dose_freq'])\n",
    "    df['mfr_sndr'] = label_encoder.fit_transform(df['mfr_sndr'])\n",
    "    df['pt'] = label_encoder.fit_transform(df['pt'])\n",
    "    df['outc_cod'] = label_encoder.fit_transform(df['outc_cod'])\n",
    "    df['dose_amt'] = label_encoder.fit_transform(df['dose_amt'])\n",
    "    return df    "
   ]
  },
  {
   "cell_type": "code",
   "execution_count": null,
   "metadata": {},
   "outputs": [],
   "source": [
    "def createDataFrame(str):\n",
    "    perf_df = pd.read_csv(str ,sep=\",\",skipinitialspace=True,error_bad_lines=False, index_col=False, dtype='unicode')\n",
    "    return perf_df  "
   ]
  },
  {
   "cell_type": "code",
   "execution_count": null,
   "metadata": {},
   "outputs": [],
   "source": [
    "# build a neural network\n",
    "def build_neural_network(train_num_df_X, train_y, test_num_df_X, test_y ):\n",
    " \n",
    "    #Calculating rows and columns for input dfs\n",
    "    trn_rows,trn_cols=train_num_df_X.shape\n",
    "    tst_rows,tst_cols=test_num_df_X.shape\n",
    "       \n",
    "    # build train dataset\n",
    "    print(\"Inside build_neural_network : \")\n",
    "    print(\"Building train dataset\")\n",
    "    train_data = ClassificationDataSet(trn_cols, 1 , nb_classes=7)\n",
    "    for k in range(len(train_num_df_X)): \n",
    "        train_data.addSample(train_num_df_X.iloc[k],train_y.iloc[k]) \n",
    "    \n",
    "    # build test dataset\n",
    "    print(\"Building test dataset\")\n",
    "    test_data = ClassificationDataSet(tst_cols, 1 , nb_classes=7)\n",
    "    for k in range(len(test_num_df_X)): \n",
    "        test_data.addSample(test_num_df_X.iloc[k],test_y.iloc[k])\n",
    "        \n",
    " \n",
    "    print(\"Train Dataset input length: {}\".format(len(train_data['input'])))\n",
    "    print(\"Train Dataset input|output dimensions are {}|{}\".format(train_data.indim, train_data.outdim))\n",
    "     \n",
    "    print(\"Train Data length: {}\".format(len(train_data)))\n",
    "    print(\"Test Data length: {}\".format(len(test_data)))\n",
    " \n",
    "    # encode with one output neuron per class\n",
    "    train_data._convertToOneOfMany()\n",
    "    test_data._convertToOneOfMany()\n",
    " \n",
    "    print(\"Train Data input|output dimensions are {}|{}\".format(train_data.indim, train_data.outdim))\n",
    "    print(\"Test Data input|output dimensions are {}|{}\".format(test_data.indim, test_data.outdim))\n",
    " \n",
    "    # build network (INPUT=10,HIDDEN=5,CLASSES=2,outclass=SoftmaxLayer)\n",
    "    print(\"Building Neural network with 5 hidden layer\")\n",
    "    network = buildNetwork(train_data.indim,100,train_data.outdim,outclass=SoftmaxLayer)\n",
    " \n",
    "    # train network\n",
    "    print(\"Training the network, it may take a while(20-30 min)...\")\n",
    "    trainer = BackpropTrainer(network,dataset=train_data,momentum=0.1,verbose=True,weightdecay=0.01)\n",
    "    trainer.trainOnDataset(train_data, 10) \n",
    "    \n",
    "    #training model on One epoch\n",
    "    print(\"Total epochs: {}\".format(trainer.totalepochs))\n",
    " \n",
    "    # test network\n",
    "    print(\"Predicting the output array with the trained model\")\n",
    "    output = network.activateOnDataset(test_data).argmax(axis=1)\n",
    "     \n",
    "    #Neural network Percent error and accuracy    \n",
    "    print(\"Percent error: {}\".format(percentError(output, test_data['class'])))\n",
    "    accuracy=Validator.classificationPerformance(output, test_y)\n",
    "    print(\"Model Accuracy: {}\".format(accuracy))\n",
    "    print(\"Classification report for Test data %s:\\n%s\\n\"% (network, metrics.classification_report(test_y, output)))\n",
    "    \n",
    "    #Compute confusion metrics\n",
    "    cm = confusion_matrix(test_y,output)\n",
    "    print(cm)"
   ]
  },
  {
   "cell_type": "code",
   "execution_count": 6,
   "metadata": {},
   "outputs": [
    {
     "name": "stdout",
     "output_type": "stream",
     "text": [
      "Creating Test Dataframe...\n",
      "Creating Training and Test Dataframe...\n"
     ]
    }
   ],
   "source": [
    "#Creating DataFrame\n",
    "print(\"Creating Test Dataframe...\")\n",
    "main_df= createDataFrame(\"MergedFile.csv\")\n",
    "print(\"Creating Training and Test Dataframe...\")\n",
    "train_df=main_df.sample(frac=0.8,random_state=200)\n",
    "test_df =main_df.drop(train_df.index)"
   ]
  },
  {
   "cell_type": "code",
   "execution_count": 7,
   "metadata": {},
   "outputs": [
    {
     "name": "stdout",
     "output_type": "stream",
     "text": [
      "#Setting the input parameter for Neural Network...\n"
     ]
    }
   ],
   "source": [
    "#Setting the input parameter for Neural Network\n",
    "print(\"#Setting the input parameter for Neural Network...\")\n",
    "cols_to_keep=['drugname','route','dose_amt','dose_unit','dose_form','dose_freq','mfr_sndr','pt']"
   ]
  },
  {
   "cell_type": "code",
   "execution_count": 8,
   "metadata": {},
   "outputs": [
    {
     "name": "stdout",
     "output_type": "stream",
     "text": [
      "Checking all required columns in train and test dataframes\n"
     ]
    }
   ],
   "source": [
    "print(\"Checking all required columns in train and test dataframes\")\n",
    "train_num_df=labelConversion(train_df)\n",
    "test_num_df= labelConversion(test_df)"
   ]
  },
  {
   "cell_type": "code",
   "execution_count": 9,
   "metadata": {},
   "outputs": [
    {
     "name": "stdout",
     "output_type": "stream",
     "text": [
      "Creating X and y variables for Train and Test Dataframes\n"
     ]
    }
   ],
   "source": [
    "#Setting the input parameter for Neural Network\n",
    "print(\"Creating X and y variables for Train and Test Dataframes\")\n",
    "train_num_df_X = train_num_df[cols_to_keep]\n",
    "outcome_num_train_y = train_num_df['outc_cod']\n",
    "\n",
    "test_num_df_X = test_num_df[cols_to_keep]\n",
    "outcome_num_test_y = test_num_df['outc_cod']"
   ]
  },
  {
   "cell_type": "code",
   "execution_count": 10,
   "metadata": {},
   "outputs": [
    {
     "name": "stdout",
     "output_type": "stream",
     "text": [
      "Calling neural network with train and test dataframes\n",
      "Inside build_neural_network : \n",
      "Building train dataset\n",
      "Building test dataset\n",
      "Train Dataset input length: 352334\n",
      "Train Dataset input|output dimensions are 8|1\n",
      "Train Data length: 352334\n",
      "Test Data length: 88083\n",
      "Train Data input|output dimensions are 8|7\n",
      "Test Data input|output dimensions are 8|7\n",
      "Building Neural network with 5 hidden layer\n",
      "Training the network, it may take a while(20-30 min)...\n",
      "Total error:  0.0506097584168\n",
      "Total error:  0.0504305539258\n",
      "Total error:  0.0503895470438\n",
      "Total error:  0.050466560144\n",
      "Total error:  0.0502556262532\n",
      "Total error:  0.0504292962076\n",
      "Total error:  0.0506194021911\n",
      "Total error:  0.0505406134015\n",
      "Total error:  0.0502153517313\n",
      "Total error:  0.0504480869566\n",
      "Total epochs: 10\n",
      "Predicting the output array with the trained model\n",
      "Percent error: 65.84698522984004\n",
      "Model Accuracy: 0.3415301477015996\n",
      "Classification report for Test data FeedForwardNetwork-8\n",
      "   Modules:\n",
      "    [<BiasUnit 'bias'>, <LinearLayer 'in'>, <SigmoidLayer 'hidden0'>, <SoftmaxLayer 'out'>]\n",
      "   Connections:\n",
      "    [<FullConnection 'FullConnection-4': 'hidden0' -> 'out'>, <FullConnection 'FullConnection-5': 'bias' -> 'out'>, <FullConnection 'FullConnection-6': 'bias' -> 'hidden0'>, <FullConnection 'FullConnection-7': 'in' -> 'hidden0'>]\n",
      ":\n",
      "             precision    recall  f1-score   support\n",
      "\n",
      "          0       0.00      0.00      0.00        59\n",
      "          1       0.00      0.00      0.00     17550\n",
      "          2       0.00      0.00      0.00       939\n",
      "          3       0.34      1.00      0.51     30083\n",
      "          4       0.00      0.00      0.00      1116\n",
      "          5       0.00      0.00      0.00     38248\n",
      "          6       0.00      0.00      0.00        88\n",
      "\n",
      "avg / total       0.12      0.34      0.17     88083\n",
      "\n",
      "\n",
      "[[    0     0     0    59     0     0     0]\n",
      " [    0     0     0 17550     0     0     0]\n",
      " [    0     0     0   939     0     0     0]\n",
      " [    0     0     0 30083     0     0     0]\n",
      " [    0     0     0  1116     0     0     0]\n",
      " [    0     0     0 38248     0     0     0]\n",
      " [    0     0     0    88     0     0     0]]\n"
     ]
    },
    {
     "name": "stderr",
     "output_type": "stream",
     "text": [
      "C:\\Users\\Prashant\\Anaconda3\\lib\\site-packages\\sklearn\\metrics\\classification.py:1135: UndefinedMetricWarning: Precision and F-score are ill-defined and being set to 0.0 in labels with no predicted samples.\n",
      "  'precision', 'predicted', average, warn_for)\n"
     ]
    }
   ],
   "source": [
    "#Calling Neural Network\n",
    "print(\"Calling neural network with train and test dataframes\")\n",
    "build_neural_network(train_num_df_X, outcome_num_train_y, test_num_df_X, outcome_num_test_y)"
   ]
  }
 ],
 "metadata": {
  "anaconda-cloud": {},
  "kernelspec": {
   "display_name": "Python 3",
   "language": "python",
   "name": "python3"
  },
  "language_info": {
   "codemirror_mode": {
    "name": "ipython",
    "version": 3
   },
   "file_extension": ".py",
   "mimetype": "text/x-python",
   "name": "python",
   "nbconvert_exporter": "python",
   "pygments_lexer": "ipython3",
   "version": "3.5.5"
  }
 },
 "nbformat": 4,
 "nbformat_minor": 1
}
